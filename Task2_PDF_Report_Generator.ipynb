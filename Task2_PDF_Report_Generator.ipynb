{
  "nbformat": 4,
  "nbformat_minor": 0,
  "metadata": {
    "colab": {
      "provenance": []
    },
    "kernelspec": {
      "name": "python3",
      "display_name": "Python 3"
    },
    "language_info": {
      "name": "python"
    }
  },
  "cells": [
    {
      "cell_type": "code",
      "execution_count": 3,
      "metadata": {
        "colab": {
          "base_uri": "https://localhost:8080/"
        },
        "id": "e2jeDJr2nn6d",
        "outputId": "264e41f6-41b1-4521-d3b5-6cc009621acd"
      },
      "outputs": [
        {
          "output_type": "stream",
          "name": "stdout",
          "text": [
            "Collecting fpdf\n",
            "  Downloading fpdf-1.7.2.tar.gz (39 kB)\n",
            "  Preparing metadata (setup.py) ... \u001b[?25l\u001b[?25hdone\n",
            "Building wheels for collected packages: fpdf\n",
            "  Building wheel for fpdf (setup.py) ... \u001b[?25l\u001b[?25hdone\n",
            "  Created wheel for fpdf: filename=fpdf-1.7.2-py2.py3-none-any.whl size=40704 sha256=adf92cb7e2cb22c0bf217e3cb2c1c0258f7876ff24306e1c822448f163fb139f\n",
            "  Stored in directory: /root/.cache/pip/wheels/65/4f/66/bbda9866da446a72e206d6484cd97381cbc7859a7068541c36\n",
            "Successfully built fpdf\n",
            "Installing collected packages: fpdf\n",
            "Successfully installed fpdf-1.7.2\n",
            "✅ Report generated successfully as 'generated_report.pdf'\n"
          ]
        }
      ],
      "source": [
        "# Task 2 – CodTech Internship\n",
        "# PDF Report Generation using FPDF\n",
        "\n",
        "!pip install fpdf\n",
        "\n",
        "from fpdf import FPDF\n",
        "\n",
        "# READ FILE\n",
        "filename = \"sample_data.txt\"\n",
        "\n",
        "with open(filename, \"r\") as file:\n",
        "    lines = file.readlines()\n",
        "\n",
        "#PARSE AND ANALYZE DATA\n",
        "students = []\n",
        "total_score = 0\n",
        "\n",
        "for line in lines:\n",
        "    parts = line.strip().split(\", \")\n",
        "    name = parts[0].split(\": \")[1]\n",
        "    score = int(parts[1].split(\": \")[1])\n",
        "    students.append((name, score))\n",
        "    total_score += score\n",
        "\n",
        "average_score = total_score / len(students)\n",
        "topper = max(students, key=lambda x: x[1])\n",
        "\n",
        "# GENERATE PDF REPORT\n",
        "pdf = FPDF()\n",
        "pdf.add_page()\n",
        "pdf.set_font(\"Arial\", 'B', 16)\n",
        "pdf.cell(200, 10, \"Student Score Report\", ln=1, align='C')\n",
        "\n",
        "pdf.set_font(\"Arial\", '', 12)\n",
        "pdf.ln(10)\n",
        "for name, score in students:\n",
        "    pdf.cell(200, 10, f\"Name: {name}, Score: {score}\", ln=1)\n",
        "\n",
        "pdf.ln(5)\n",
        "pdf.set_font(\"Arial\", 'B', 12)\n",
        "pdf.cell(200, 10, f\"Total Students: {len(students)}\", ln=1)\n",
        "pdf.cell(200, 10, f\"Average Score: {average_score:.2f}\", ln=1)\n",
        "pdf.cell(200, 10, f\"Top Scorer: {topper[0]} ({topper[1]})\", ln=1)\n",
        "\n",
        "#SAVE PDF\n",
        "pdf.output(\"generated_report.pdf\")\n",
        "\n",
        "print(\"✅ Report generated successfully as 'generated_report.pdf'\")\n"
      ]
    }
  ]
}